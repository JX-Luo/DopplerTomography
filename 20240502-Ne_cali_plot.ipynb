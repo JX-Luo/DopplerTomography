{
 "cells": [
  {
   "cell_type": "code",
   "execution_count": 1,
   "id": "fb08facc-6964-4d41-b25d-4e294ac4e167",
   "metadata": {},
   "outputs": [],
   "source": [
    "import numpy as np\n",
    "import pandas as pd\n",
    "import matplotlib.pyplot as plt\n",
    "\n",
    "from scipy.optimize import curve_fit"
   ]
  },
  {
   "cell_type": "code",
   "execution_count": 2,
   "id": "48fd7ed4-e66f-42da-9543-667c41ada800",
   "metadata": {},
   "outputs": [],
   "source": [
    "plt.rcParams['figure.figsize'] = [3.6, 2.5]\n",
    "plt.rcParams['xtick.direction'] = 'in'\n",
    "plt.rcParams['ytick.direction'] = 'in'\n",
    "plt.rcParams['mathtext.default'] = 'regular'\n",
    "plt.rcParams['legend.fancybox'] = False\n",
    "plt.rcParams['legend.edgecolor'] = '0'"
   ]
  },
  {
   "cell_type": "code",
   "execution_count": 3,
   "id": "6580492e-c685-48ab-86cc-cf73906de6fe",
   "metadata": {},
   "outputs": [],
   "source": [
    "data = pd.read_excel('/mnt/e/東大/研究/20240429_spectrometer_calibration/20240501-Ne-calibration.xlsx')"
   ]
  },
  {
   "cell_type": "code",
   "execution_count": 4,
   "id": "7d2f3972-84df-4282-b39b-af4f967bb3db",
   "metadata": {},
   "outputs": [
    {
     "data": {
      "text/html": [
       "<div>\n",
       "<style scoped>\n",
       "    .dataframe tbody tr th:only-of-type {\n",
       "        vertical-align: middle;\n",
       "    }\n",
       "\n",
       "    .dataframe tbody tr th {\n",
       "        vertical-align: top;\n",
       "    }\n",
       "\n",
       "    .dataframe thead th {\n",
       "        text-align: right;\n",
       "    }\n",
       "</style>\n",
       "<table border=\"1\" class=\"dataframe\">\n",
       "  <thead>\n",
       "    <tr style=\"text-align: right;\">\n",
       "      <th></th>\n",
       "      <th>dial</th>\n",
       "      <th>No.</th>\n",
       "      <th>wavlength1</th>\n",
       "      <th>wavelength2</th>\n",
       "      <th>px1</th>\n",
       "      <th>px2</th>\n",
       "      <th>linear dispersion</th>\n",
       "      <th>note</th>\n",
       "      <th>center wavelength</th>\n",
       "      <th>difference from dial</th>\n",
       "      <th>Reasonablity</th>\n",
       "    </tr>\n",
       "  </thead>\n",
       "  <tbody>\n",
       "    <tr>\n",
       "      <th>0</th>\n",
       "      <td>359.8</td>\n",
       "      <td>0.0</td>\n",
       "      <td>359.35263</td>\n",
       "      <td>360.01694</td>\n",
       "      <td>370.0</td>\n",
       "      <td>540.0</td>\n",
       "      <td>0.003908</td>\n",
       "      <td>reasonable</td>\n",
       "      <td>359.907524</td>\n",
       "      <td>0.107524</td>\n",
       "      <td>reasonable</td>\n",
       "    </tr>\n",
       "    <tr>\n",
       "      <th>1</th>\n",
       "      <td>359.8</td>\n",
       "      <td>NaN</td>\n",
       "      <td>360.01694</td>\n",
       "      <td>360.91787</td>\n",
       "      <td>540.0</td>\n",
       "      <td>772.0</td>\n",
       "      <td>0.003883</td>\n",
       "      <td>reasonable</td>\n",
       "      <td>359.908207</td>\n",
       "      <td>0.108207</td>\n",
       "      <td>reasonable</td>\n",
       "    </tr>\n",
       "    <tr>\n",
       "      <th>2</th>\n",
       "      <td>369.0</td>\n",
       "      <td>1.0</td>\n",
       "      <td>368.22421</td>\n",
       "      <td>368.57351</td>\n",
       "      <td>269.0</td>\n",
       "      <td>359.0</td>\n",
       "      <td>0.003881</td>\n",
       "      <td>observed 3, database 2…, reasonable</td>\n",
       "      <td>369.167320</td>\n",
       "      <td>0.167320</td>\n",
       "      <td>reasonable</td>\n",
       "    </tr>\n",
       "    <tr>\n",
       "      <th>3</th>\n",
       "      <td>427.0</td>\n",
       "      <td>2.0</td>\n",
       "      <td>426.80086</td>\n",
       "      <td>426.97223</td>\n",
       "      <td>305.0</td>\n",
       "      <td>351.0</td>\n",
       "      <td>0.003725</td>\n",
       "      <td>NaN</td>\n",
       "      <td>427.572025</td>\n",
       "      <td>NaN</td>\n",
       "      <td>NaN</td>\n",
       "    </tr>\n",
       "    <tr>\n",
       "      <th>4</th>\n",
       "      <td>427.0</td>\n",
       "      <td>NaN</td>\n",
       "      <td>426.97223</td>\n",
       "      <td>427.46617</td>\n",
       "      <td>351.0</td>\n",
       "      <td>477.0</td>\n",
       "      <td>0.003920</td>\n",
       "      <td>NaN</td>\n",
       "      <td>427.603376</td>\n",
       "      <td>NaN</td>\n",
       "      <td>NaN</td>\n",
       "    </tr>\n",
       "  </tbody>\n",
       "</table>\n",
       "</div>"
      ],
      "text/plain": [
       "    dial  No.  wavlength1  wavelength2    px1    px2  linear dispersion  \\\n",
       "0  359.8  0.0   359.35263    360.01694  370.0  540.0           0.003908   \n",
       "1  359.8  NaN   360.01694    360.91787  540.0  772.0           0.003883   \n",
       "2  369.0  1.0   368.22421    368.57351  269.0  359.0           0.003881   \n",
       "3  427.0  2.0   426.80086    426.97223  305.0  351.0           0.003725   \n",
       "4  427.0  NaN   426.97223    427.46617  351.0  477.0           0.003920   \n",
       "\n",
       "                                  note  center wavelength  \\\n",
       "0                           reasonable         359.907524   \n",
       "1                           reasonable         359.908207   \n",
       "2  observed 3, database 2…, reasonable         369.167320   \n",
       "3                                  NaN         427.572025   \n",
       "4                                  NaN         427.603376   \n",
       "\n",
       "   difference from dial Reasonablity  \n",
       "0              0.107524   reasonable  \n",
       "1              0.108207   reasonable  \n",
       "2              0.167320   reasonable  \n",
       "3                   NaN          NaN  \n",
       "4                   NaN          NaN  "
      ]
     },
     "execution_count": 4,
     "metadata": {},
     "output_type": "execute_result"
    }
   ],
   "source": [
    "data.head()"
   ]
  },
  {
   "cell_type": "code",
   "execution_count": 5,
   "id": "89d096c9-f86e-41ac-a88b-ac2d8b768ccc",
   "metadata": {},
   "outputs": [],
   "source": [
    "data_re = data.dropna(subset = ['Reasonablity'])"
   ]
  },
  {
   "cell_type": "markdown",
   "id": "513652b8-1c31-4d37-81ad-32c36f39b45e",
   "metadata": {},
   "source": [
    "# Linear dispersion\n",
    "The reciprocal linear dispersion is given by\n",
    "\n",
    "$$\\left|\\frac{d\\lambda}{dx}\\right| =\\frac{1}{f}\\left( \\sqrt{\\left(\\frac{\\cos\\theta_0\\cos\\epsilon}{mg\\cdot10^{-6}}\\right)^2 - \\left(\\frac{\\lambda}{2}\\right)^2} + \\frac{m}{|m|}\\frac{\\lambda}{2}\\tan\\theta_0 \\right)$$\n",
    "\n",
    "where $\\theta_0$ is the incidental angle, $\\epsilon$ is the fan angle, $f[mm]$ is the focal length, $g$[lines(L)/mm] is the grating number, $m$ is the diffraction order"
   ]
  },
  {
   "cell_type": "code",
   "execution_count": 6,
   "id": "67d62c1c-04c9-432a-bdf3-917531460da8",
   "metadata": {},
   "outputs": [],
   "source": [
    "def linear_dispersion(wavelength, theta0, m, g, f):\n",
    "    return 1 / f * (np.sqrt((np.cos(theta0) / (m * g * 1e-6)) ** 2 - (wavelength/2) ** 2) + m / np.abs(m) * wavelength / 2 *  np.tan(theta0))"
   ]
  },
  {
   "cell_type": "code",
   "execution_count": 7,
   "id": "202f774c-0898-4c84-b791-ec621cc9b4ad",
   "metadata": {},
   "outputs": [],
   "source": [
    "def linear_dispersion2(wavelength, theta0, m, f):\n",
    "    return 1 / f * (np.sqrt((np.cos(theta0) / (m * 1200 * 1e-6)) ** 2 - (wavelength/2) ** 2) + m / np.abs(m) * wavelength / 2 *  np.tan(theta0))"
   ]
  },
  {
   "cell_type": "code",
   "execution_count": 8,
   "id": "5561522e-5dcc-49b7-a6ba-d49fb1f2ea9e",
   "metadata": {},
   "outputs": [],
   "source": [
    "wavelength = np.linspace(360, 705, 300)"
   ]
  },
  {
   "cell_type": "code",
   "execution_count": 9,
   "id": "0c5d7655-5ca0-404f-b078-c17f87a0a71f",
   "metadata": {},
   "outputs": [
    {
     "data": {
      "text/plain": [
       "[<matplotlib.lines.Line2D at 0x7f2d3fe8c850>]"
      ]
     },
     "execution_count": 9,
     "metadata": {},
     "output_type": "execute_result"
    },
    {
     "data": {
      "image/png": "[encoded data removed]",
      "text/plain": [
       "<Figure size 360x250 with 1 Axes>"
      ]
     },
     "metadata": {},
     "output_type": "display_data"
    }
   ],
   "source": [
    "plt.plot(wavelength, linear_dispersion(wavelength, np.deg2rad(6), 1, 1200, 100000))"
   ]
  },
  {
   "cell_type": "code",
   "execution_count": 10,
   "id": "3660fc11-b026-4af6-9dd7-cbe01c5a35c8",
   "metadata": {},
   "outputs": [],
   "source": [
    "[theta2, m2, f2], _ = curve_fit(linear_dispersion2,\n",
    "          data_re['center wavelength'], data_re['linear dispersion'],\n",
    "          p0=[np.deg2rad(7), -1, 10000])"
   ]
  },
  {
   "cell_type": "code",
   "execution_count": 11,
   "id": "09a4d6e1-d680-4ad1-8c0c-5a441077718b",
   "metadata": {},
   "outputs": [
    {
     "name": "stderr",
     "output_type": "stream",
     "text": [
      "/home/jxluo/space/lib/python3.11/site-packages/pandas/core/arraylike.py:399: RuntimeWarning: invalid value encountered in sqrt\n",
      "  result = getattr(ufunc, method)(*inputs, **kwargs)\n"
     ]
    }
   ],
   "source": [
    "[theta, m, g, f], _ = curve_fit(linear_dispersion,\n",
    "          data_re['center wavelength'], data_re['linear dispersion'],\n",
    "          p0=[np.deg2rad(7), -1, 1200, 10000])"
   ]
  },
  {
   "cell_type": "code",
   "execution_count": 19,
   "id": "8f19179e-a710-4733-88fe-2379f5c862ad",
   "metadata": {},
   "outputs": [
    {
     "data": {
      "image/png": "[encoded data removed]",
      "text/plain": [
       "<Figure size 360x250 with 1 Axes>"
      ]
     },
     "metadata": {},
     "output_type": "display_data"
    }
   ],
   "source": [
    "plt.plot(data_re['center wavelength'], data_re['linear dispersion'], 'rx', label='Experiment')\n",
    "plt.ylabel('$d\\lambda/dx(nm/px)$')\n",
    "plt.xlabel('wavelength(nm)')\n",
    "plt.title('Linear dispersion')\n",
    "\n",
    "plt.plot(wavelength, linear_dispersion(wavelength, theta, m, g, f), label='Fitting')\n",
    "# plt.plot(wavelength, linear_dispersion2(wavelength, theta2, m2,f2))\n",
    "\n",
    "plt.legend()\n",
    "\n",
    "plt.tight_layout()\n",
    "\n",
    "plt.savefig('./linear dispersion.jpg', dpi=600)"
   ]
  },
  {
   "cell_type": "code",
   "execution_count": 18,
   "id": "d6908a86-8313-48db-9ac9-803cb375ff1b",
   "metadata": {},
   "outputs": [
    {
     "data": {
      "image/png": "[encoded data removed]",
      "text/plain": [
       "<Figure size 360x250 with 1 Axes>"
      ]
     },
     "metadata": {},
     "output_type": "display_data"
    }
   ],
   "source": [
    "plt.plot(data_re['center wavelength'], data_re['difference from dial'], 'o', mec='k')\n",
    "plt.xlabel('wavelength(mm)')\n",
    "plt.ylabel('dial error(nm)')\n",
    "plt.title('Dial error')\n",
    "\n",
    "plt.tight_layout()\n",
    "\n",
    "plt.savefig('./dial error.jpg', dpi=600)"
   ]
  },
  {
   "cell_type": "code",
   "execution_count": null,
   "id": "88387e52-bd96-4d9f-8072-5e1bd5ed1a5d",
   "metadata": {},
   "outputs": [],
   "source": []
  },
  {
   "cell_type": "code",
   "execution_count": null,
   "id": "cf4d1244-3f7a-4cf2-9ac4-3179028ddef9",
   "metadata": {},
   "outputs": [],
   "source": []
  },
  {
   "cell_type": "code",
   "execution_count": null,
   "id": "1ab8b5e0-a004-4974-945a-b38e45ad4506",
   "metadata": {},
   "outputs": [],
   "source": []
  },
  {
   "cell_type": "code",
   "execution_count": null,
   "id": "7cd9363b-3619-470b-b75a-3c6f333dea73",
   "metadata": {},
   "outputs": [],
   "source": []
  },
  {
   "cell_type": "code",
   "execution_count": null,
   "id": "fbd1b7ab-0eb6-42f6-86ae-705f78f1f31b",
   "metadata": {},
   "outputs": [],
   "source": []
  },
  {
   "cell_type": "code",
   "execution_count": null,
   "id": "854a0d49-d276-4329-99c9-1f2e2f51cb82",
   "metadata": {},
   "outputs": [],
   "source": []
  }
 ],
 "metadata": {
  "kernelspec": {
   "display_name": "Python 3 (ipykernel)",
   "language": "python",
   "name": "python3"
  },
  "language_info": {
   "codemirror_mode": {
    "name": "ipython",
    "version": 3
   },
   "file_extension": ".py",
   "mimetype": "text/x-python",
   "name": "python",
   "nbconvert_exporter": "python",
   "pygments_lexer": "ipython3",
   "version": "3.11.2"
  }
 },
 "nbformat": 4,
 "nbformat_minor": 5
}
